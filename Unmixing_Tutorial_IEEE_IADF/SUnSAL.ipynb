{
  "nbformat": 4,
  "nbformat_minor": 0,
  "metadata": {
    "colab": {
      "provenance": [],
      "authorship_tag": "ABX9TyPqdMb7kImbIU5XIf//P5Ki",
      "include_colab_link": true
    },
    "kernelspec": {
      "name": "python3",
      "display_name": "Python 3"
    },
    "language_info": {
      "name": "python"
    }
  },
  "cells": [
    {
      "cell_type": "markdown",
      "metadata": {
        "id": "view-in-github",
        "colab_type": "text"
      },
      "source": [
        "<a href=\"https://colab.research.google.com/github/BehnoodRasti/Unmixing_Tutorial_IEEE_IADF/blob/main/SUnSAL.ipynb\" target=\"_parent\"><img src=\"https://colab.research.google.com/assets/colab-badge.svg\" alt=\"Open In Colab\"/></a>"
      ]
    },
    {
      "cell_type": "markdown",
      "source": [
        "# Sparse (Semisupervised) Unmixing - SUnCNN\n",
        "\n",
        "\n",
        "---\n",
        "\n",
        "Python implementation found at https://github.com/Laadr/SUNSAL\n",
        "\n",
        "Original implementation is in Matlab author: Jose Bioucas-Dias, 2009 \n",
        "\n",
        "Published in\n",
        "\n",
        "J. Bioucas-Dias and M. Figueiredo, \"Alternating direction algorithms for constrained sparse regression: Application to hyperspectral unmixing\", in 2nd IEEE GRSS Workshop on Hyperspectral Image and SignalProcessing-WHISPERS'2010, Raykjavik, Iceland, 2010.\n",
        "\n",
        "## Imports\n",
        "\n",
        "1. Clone required github repositories\n",
        "2. Import Python packages"
      ],
      "metadata": {
        "id": "BaeZ6OlaEzfB"
      }
    },
    {
      "cell_type": "code",
      "source": [
        "!git clone https://github.com/BehnoodRasti/SUnCNN.git"
      ],
      "metadata": {
        "colab": {
          "base_uri": "https://localhost:8080/"
        },
        "id": "gMpyCcYFFwdx",
        "outputId": "5e75942d-6c2c-454f-96cf-0ab38b0bfc7a"
      },
      "execution_count": null,
      "outputs": [
        {
          "output_type": "stream",
          "name": "stdout",
          "text": [
            "fatal: destination path 'SUnCNN' already exists and is not an empty directory.\n"
          ]
        }
      ]
    },
    {
      "cell_type": "code",
      "source": [
        "import scipy.io\n",
        "import numpy as np\n",
        "fname2  = \"SUnCNN/Data/DC1/Y_clean.mat\"\n",
        "mat2 = scipy.io.loadmat(fname2)\n",
        "img_np_gt = mat2[\"Y_clean\"]\n",
        "img_np_gt = img_np_gt.transpose(2,0,1)\n",
        "[p1, nr1, nc1] = img_np_gt.shape\n",
        "img_resh=np.reshape(img_np_gt,(p1,nr1*nc1))\n",
        "#%%\n",
        "fname3  = \"SUnCNN/Data/DC1/XT.mat\"\n",
        "mat3 = scipy.io.loadmat(fname3)\n",
        "A_true_np = mat3[\"XT\"]\n",
        "\n",
        "#%%\n",
        "fname4  = \"SUnCNN/Data/DC1/EE.mat\"\n",
        "mat4 = scipy.io.loadmat(fname4)\n",
        "EE = mat4[\"EE\"]\n",
        "#%%\n",
        "LibS=EE.shape[1]"
      ],
      "metadata": {
        "id": "PmWPXCj5F6YV"
      },
      "execution_count": null,
      "outputs": []
    },
    {
      "cell_type": "code",
      "execution_count": null,
      "metadata": {
        "id": "qr_UIGBiDjqz"
      },
      "outputs": [],
      "source": [
        "import sys\n",
        "import scipy as sp\n",
        "import scipy.linalg as splin\n",
        "from numpy import linalg as LA\n",
        "\n",
        "def sunsal(M,y,AL_iters=1000,lambda_0=0.,positivity=False,addone=False,tol=1e-4,x0 = None,verbose=False):\n",
        "\n",
        "    [LM,p] = M.shape # mixing matrixsize\n",
        "    [L,N] = y.shape # data set size\n",
        "    if LM != L:\n",
        "        sys.exit('mixing matrix M and data set y are inconsistent')\n",
        "\n",
        "    AL_iters = int(AL_iters)\n",
        "    if (AL_iters < 0 ):\n",
        "        sys.exit('AL_iters must a positive integer')\n",
        "\n",
        "    # If lambda is scalar convert it into vector\n",
        "    lambda_0 = ( lambda_0 * sp.ones((N,p)) ).T\n",
        "    if (lambda_0<0).any():\n",
        "        sys.exit('lambda_0 must be positive')\n",
        "\n",
        "    # compute mean norm\n",
        "    norm_m = splin.norm(M)*(25+p)/float(p)\n",
        "    # rescale M and Y and lambda\n",
        "    M = M/norm_m\n",
        "    y = y/norm_m\n",
        "    lambda_0 = lambda_0/norm_m**2\n",
        "\n",
        "    if x0 is not None:\n",
        "        if (x0.shape[0]==p) or (x0.shape[0]==N):\n",
        "            sys.exit('initial X is not inconsistent with M or Y')\n",
        "\n",
        "\n",
        "    #---------------------------------------------\n",
        "    # just least squares\n",
        "    #---------------------------------------------\n",
        "    if (lambda_0.sum() == 0) and (not positivity) and (not addone):\n",
        "        z = sp.dot(splin.pinv(M),y)\n",
        "        # primal and dual residues\n",
        "        res_p = 0.\n",
        "        res_d = 0.\n",
        "        return z,res_p,res_d,None\n",
        "\n",
        "    #---------------------------------------------\n",
        "    # least squares constrained (sum(x) = 1)\n",
        "    #---------------------------------------------\n",
        "    SMALL = 1e-12;\n",
        "    if (lambda_0.sum() == 0) and (addone) and (not positivity):\n",
        "        F = sp.dot(M.T,M)\n",
        "        # test if F is invertible\n",
        "        if LA.cond(F) > SMALL:\n",
        "            # compute the solution explicitly\n",
        "            IF = splin.inv(F);\n",
        "            z = sp.dot(sp.dot(IF,M.T),y) - (1./IF.sum())*sp.dot(sp.sum(IF,axis=1,keepdims=True) , ( sp.dot(sp.dot(sp.sum(IF,axis=0,keepdims=True),M.T),y) - 1.))\n",
        "            # primal and dual residues\n",
        "            res_p = 0\n",
        "            res_d = 0\n",
        "\n",
        "            return z,res_p,res_d,None\n",
        "        else:\n",
        "            sys.exit('Bad conditioning of M.T*M')\n",
        "\n",
        "\n",
        "    #---------------------------------------------\n",
        "    #  Constants and initializations\n",
        "    #---------------------------------------------\n",
        "    mu_AL = 0.01\n",
        "    mu = 10*lambda_0.mean() + mu_AL\n",
        "\n",
        "    [UF,SF] = splin.svd(sp.dot(M.T,M))[:2]\n",
        "    IF = sp.dot( sp.dot(UF,sp.diag(1./(SF+mu))) , UF.T )\n",
        "    Aux = (1./IF.sum()) * sp.sum(IF,axis=1,keepdims=True)\n",
        "    x_aux = sp.sum(Aux,axis=1,keepdims=True)\n",
        "    IF1 = IF - sp.dot(Aux,sp.sum(IF,axis=0,keepdims=True))\n",
        "\n",
        "\n",
        "    yy = sp.dot(M.T,y)\n",
        "\n",
        "    #---------------------------------------------\n",
        "    #  Initializations\n",
        "    #---------------------------------------------\n",
        "\n",
        "    # no intial solution supplied\n",
        "    if x0 is None:\n",
        "       x = sp.dot( sp.dot(IF,M.T) , y)\n",
        "    else:\n",
        "        x = x0\n",
        "\n",
        "    z = x\n",
        "    # scaled Lagrange Multipliers\n",
        "    d  = 0*z\n",
        "\n",
        "    #---------------------------------------------\n",
        "    #  AL iterations - main body\n",
        "    #---------------------------------------------\n",
        "    tol1 = sp.sqrt(N*p)*tol\n",
        "    tol2 = sp.sqrt(N*p)*tol\n",
        "    i=1\n",
        "    res_p = sp.inf\n",
        "    res_d = sp.inf\n",
        "    maskz = sp.ones(z.shape)\n",
        "    mu_changed = 0\n",
        "\n",
        "    #--------------------------------------------------------------------------\n",
        "    # constrained  leat squares (CLS) X >= 0\n",
        "    #--------------------------------------------------------------------------\n",
        "    if (lambda_0.sum() ==  0)  and (not addone):\n",
        "        while (i <= AL_iters) and ((abs(res_p) > tol1) or (abs(res_d) > tol2)):\n",
        "            # save z to be used later\n",
        "            if (i%10) == 1:\n",
        "                z0 = z\n",
        "            # minimize with respect to z\n",
        "            z = sp.maximum(x-d,0)\n",
        "            # minimize with respect to x\n",
        "            x = sp.dot(IF,yy + mu*(z+d))\n",
        "            # Lagrange multipliers update\n",
        "            d -= (x-z)\n",
        "\n",
        "            # update mu so to keep primal and dual residuals whithin a factor of 10\n",
        "            if (i%10) == 1:\n",
        "                # primal residue\n",
        "                res_p = splin.norm(x-z)\n",
        "                # dual residue\n",
        "                res_d = mu*splin.norm(z-z0)\n",
        "                if verbose:\n",
        "                    print(\"i = {:d}, res_p = {:f}, res_d = {:f}\\n\").format(i,res_p,res_d)\n",
        "                # update mu\n",
        "                if res_p > 10*res_d:\n",
        "                    mu = mu*2\n",
        "                    d = d/2\n",
        "                    mu_changed = True\n",
        "                elif res_d > 10*res_p:\n",
        "                    mu = mu/2\n",
        "                    d = d*2\n",
        "                    mu_changed = True\n",
        "\n",
        "                if  mu_changed:\n",
        "                    # update IF and IF1\n",
        "                    IF = sp.dot( sp.dot(UF,sp.diag(1./(SF+mu))) , UF.T )\n",
        "                    # Aux = (1./IF.sum()) * sp.sum(IF,axis=1,keepdims=True)\n",
        "                    # x_aux = sp.sum(Aux,axis=1,keepdims=True)\n",
        "                    # IF1 = IF - sp.dot(Aux,sp.sum(IF,axis=0,keepdims=True))\n",
        "                    mu_changed = False\n",
        "\n",
        "            i+=1\n",
        "\n",
        "    #--------------------------------------------------------------------------\n",
        "    # Fully constrained  leat squares (FCLS) X >= 0\n",
        "    #--------------------------------------------------------------------------\n",
        "    elif (lambda_0.sum() ==  0)  and addone:\n",
        "        while (i <= AL_iters) and ((abs(res_p) > tol1) or (abs(res_d) > tol2)):\n",
        "            # save z to be used later\n",
        "            if (i%10) == 1:\n",
        "                z0 = z\n",
        "            # minimize with respect to z\n",
        "            z = sp.maximum(x-d,0)\n",
        "            # minimize with respect to x\n",
        "            x = sp.dot(IF1,yy + mu*(z+d)) + x_aux\n",
        "            # Lagrange multipliers update\n",
        "            d -= (x-z)\n",
        "\n",
        "            # update mu so to keep primal and dual residuals whithin a factor of 10\n",
        "            if (i%10) == 1:\n",
        "                # primal residue\n",
        "                res_p = splin.norm(x-z)\n",
        "                # dual residue\n",
        "                res_d = mu*splin.norm(z-z0)\n",
        "                if verbose:\n",
        "                    print(\"i = {:d}, res_p = {:f}, res_d = {:f}\\n\").format(i,res_p,res_d)\n",
        "                # update mu\n",
        "                if res_p > 10*res_d:\n",
        "                    mu = mu*2\n",
        "                    d = d/2\n",
        "                    mu_changed = True\n",
        "                elif res_d > 10*res_p:\n",
        "                    mu = mu/2\n",
        "                    d = d*2\n",
        "                    mu_changed = True\n",
        "\n",
        "                if  mu_changed:\n",
        "                    # update IF and IF1\n",
        "                    IF = sp.dot( sp.dot(UF,sp.diag(1./(SF+mu))) , UF.T )\n",
        "                    Aux = (1./IF.sum()) * sp.sum(IF,axis=1,keepdims=True)\n",
        "                    x_aux = sp.sum(Aux,axis=1,keepdims=True)\n",
        "                    IF1 = IF - sp.dot(Aux,sp.sum(IF,axis=0,keepdims=True))\n",
        "                    mu_changed = False\n",
        "\n",
        "            i+=1\n",
        "\n",
        "        #--------------------------------------------------------------------------\n",
        "        # generic SUNSAL: lambda > 0\n",
        "        #--------------------------------------------------------------------------\n",
        "    else:\n",
        "        # implement soft_th\n",
        "        while (i <= AL_iters) and ((abs(res_p) > tol1) or (abs(res_d) > tol2)):\n",
        "            # save z to be used later\n",
        "            if (i%10) == 1:\n",
        "                z0 = z\n",
        "            # minimize with respect to z\n",
        "            nu = x-d\n",
        "            z = sp.sign(nu) * sp.maximum(sp.absolute(nu) - lambda_0/mu,0)\n",
        "            # teste for positivity\n",
        "            if positivity:\n",
        "                z = sp.maximum(z,0)\n",
        "            # teste for sum-to-one\n",
        "            if addone:\n",
        "                x = sp.dot(IF1,yy+mu*(z+d)) + x_aux\n",
        "            else:\n",
        "                x = sp.dot(IF,yy+mu*(z+d))\n",
        "            # Lagrange multipliers update\n",
        "            d -= (x-z)\n",
        "\n",
        "            # update mu so to keep primal and dual residuals whithin a factor of 10\n",
        "            if (i%10) == 1:\n",
        "                # primal residue\n",
        "                res_p = splin.norm(x-z)\n",
        "                # dual residue\n",
        "                res_d = mu*splin.norm(z-z0)\n",
        "                if verbose:\n",
        "                    print(\"i = {:d}, res_p = {:f}, res_d = {:f}\\n\").format(i,res_p,res_d)\n",
        "                # update mu\n",
        "                if res_p > 10*res_d:\n",
        "                    mu = mu*2\n",
        "                    d = d/2\n",
        "                    mu_changed = True\n",
        "                elif res_d > 10*res_p:\n",
        "                    mu = mu/2\n",
        "                    d = d*2\n",
        "                    mu_changed = True\n",
        "\n",
        "                if  mu_changed:\n",
        "                    # update IF and IF1\n",
        "                    IF = sp.dot( sp.dot(UF,sp.diag(1./(SF+mu))) , UF.T )\n",
        "                    Aux = (1./IF.sum()) * sp.sum(IF,axis=1,keepdims=True)\n",
        "                    x_aux = sp.sum(Aux,axis=1,keepdims=True)\n",
        "                    IF1 = IF - sp.dot(Aux,sp.sum(IF,axis=0,keepdims=True))\n",
        "                    mu_changed = False\n",
        "\n",
        "            i+=1\n",
        "\n",
        "    return x,res_p,res_d,i"
      ]
    },
    {
      "cell_type": "code",
      "source": [
        "x,res_p,res_d,i = sunsal(EE,img_resh,AL_iters=1000,lambda_0=0.,positivity=False,addone=False,tol=1e-4,x0 = None,verbose=False)"
      ],
      "metadata": {
        "colab": {
          "base_uri": "https://localhost:8080/"
        },
        "id": "Uwa-a3NFGMQk",
        "outputId": "6671d505-ed9e-4894-8f18-64d0db475df0"
      },
      "execution_count": null,
      "outputs": [
        {
          "output_type": "stream",
          "name": "stderr",
          "text": [
            "/usr/local/lib/python3.7/dist-packages/ipykernel_launcher.py:18: DeprecationWarning: scipy.ones is deprecated and will be removed in SciPy 2.0.0, use numpy.ones instead\n",
            "/usr/local/lib/python3.7/dist-packages/ipykernel_launcher.py:38: DeprecationWarning: scipy.dot is deprecated and will be removed in SciPy 2.0.0, use numpy.dot instead\n"
          ]
        }
      ]
    },
    {
      "cell_type": "code",
      "source": [
        "A_true=A_true_np.astype(np.float32).reshape((EE.shape[1],nr1*nc1))\n",
        "\n",
        "SRE=10*np.log10(LA.norm(A_true,'fro')/LA.norm((A_true.astype(np.float32)- np.clip(x, 0, 1)),'fro'))\n",
        "print ('SRE: %f' % (SRE))"
      ],
      "metadata": {
        "id": "uN5k584mHRKV"
      },
      "execution_count": null,
      "outputs": []
    },
    {
      "cell_type": "code",
      "source": [],
      "metadata": {
        "colab": {
          "base_uri": "https://localhost:8080/"
        },
        "id": "Khj4HtJ8KF2X",
        "outputId": "0beb96c7-67f1-4725-aee6-a224cc7375f5"
      },
      "execution_count": null,
      "outputs": [
        {
          "output_type": "stream",
          "name": "stdout",
          "text": [
            "SRE 11.025839:\n"
          ]
        }
      ]
    }
  ]
}